{
 "cells": [
  {
   "cell_type": "code",
   "execution_count": 90,
   "metadata": {},
   "outputs": [],
   "source": [
    "import numpy as np\n",
    "import pandas as pd\n",
    "from numpy.linalg import cholesky\n",
    "from genedata import generater\n",
    "from genedata import ortho\n",
    "from genedata import augment"
   ]
  },
  {
   "cell_type": "code",
   "execution_count": 50,
   "metadata": {},
   "outputs": [],
   "source": [
    "n = 10\n",
    "p = 3\n",
    "k=2\n",
    "rou = 0.5\n",
    "y,X,U = generater(n,p,k,rou)"
   ]
  },
  {
   "cell_type": "code",
   "execution_count": 64,
   "metadata": {},
   "outputs": [],
   "source": [
    "X = pd.read_csv(\"X.csv\").values"
   ]
  },
  {
   "cell_type": "code",
   "execution_count": 80,
   "metadata": {},
   "outputs": [
    {
     "data": {
      "text/plain": [
       "array([[ 1.        ,  0.52888742, -0.05735583],\n",
       "       [ 0.52888742,  1.        ,  0.55458681],\n",
       "       [-0.05735583,  0.55458681,  1.        ]])"
      ]
     },
     "execution_count": 80,
     "metadata": {},
     "output_type": "execute_result"
    }
   ],
   "source": [
    "np.corrcoef(X.T)"
   ]
  },
  {
   "cell_type": "code",
   "execution_count": 79,
   "metadata": {},
   "outputs": [
    {
     "name": "stdout",
     "output_type": "stream",
     "text": [
      "when augumenting X0 is None, so your input should be all X, or only X1 with appling spliding method\n"
     ]
    },
    {
     "data": {
      "text/plain": [
       "array([[1.        , 0.56266325, 0.15933475],\n",
       "       [0.56266325, 1.        , 0.64167508],\n",
       "       [0.15933475, 0.64167508, 1.        ]])"
      ]
     },
     "execution_count": 79,
     "metadata": {},
     "output_type": "execute_result"
    }
   ],
   "source": [
    "Xt = augment(X)[:,3:]\n",
    "np.corrcoef(Xt.T)"
   ]
  },
  {
   "cell_type": "code",
   "execution_count": 67,
   "metadata": {},
   "outputs": [
    {
     "data": {
      "text/plain": [
       "array([[ 1.        ,  1.        ,  1.        ],\n",
       "       [ 1.        ,  1.        ,  1.        ],\n",
       "       [ 1.        ,  1.        ,  1.        ],\n",
       "       [ 1.        ,  1.        ,  1.        ],\n",
       "       [ 1.        ,  1.        ,  1.        ],\n",
       "       [ 1.        ,  1.        ,  3.14752017],\n",
       "       [ 1.        , -9.69468502,  0.87041681],\n",
       "       [ 2.10973799, -4.45084816, -0.84295444],\n",
       "       [ 3.07207955,  1.83522637, -0.51755423],\n",
       "       [ 4.09315543,  1.81934138, -1.38024474]])"
      ]
     },
     "execution_count": 67,
     "metadata": {},
     "output_type": "execute_result"
    }
   ],
   "source": [
    "U = ortho(X)\n",
    "U"
   ]
  },
  {
   "cell_type": "code",
   "execution_count": 68,
   "metadata": {},
   "outputs": [
    {
     "data": {
      "text/plain": [
       "array([[ 0.00000000e+00, -8.88178420e-16, -1.66533454e-15],\n",
       "       [ 0.00000000e+00,  4.44089210e-16, -2.56739074e-15],\n",
       "       [ 0.00000000e+00, -4.44089210e-16, -2.22044605e-15]])"
      ]
     },
     "execution_count": 68,
     "metadata": {},
     "output_type": "execute_result"
    }
   ],
   "source": [
    "np.dot(X.T,U)"
   ]
  },
  {
   "cell_type": "code",
   "execution_count": 71,
   "metadata": {},
   "outputs": [
    {
     "data": {
      "text/plain": [
       "array([2.02716098, 2.60881129, 3.19030121])"
      ]
     },
     "execution_count": 71,
     "metadata": {},
     "output_type": "execute_result"
    }
   ],
   "source": [
    "norm_X = np.linalg.norm(X,axis=0)\n",
    "norm_X"
   ]
  },
  {
   "cell_type": "code",
   "execution_count": 72,
   "metadata": {},
   "outputs": [
    {
     "data": {
      "text/plain": [
       "array([[-0.15701142,  0.14063122,  0.24493677],\n",
       "       [-0.0688459 , -0.25843656,  0.03156177],\n",
       "       [-0.0104692 , -0.59797701, -0.87372166],\n",
       "       [-0.24107117, -0.04225992, -0.14760788],\n",
       "       [-0.53455469, -0.39983093,  0.04015949],\n",
       "       [ 0.35263075,  0.32677551,  0.3055065 ],\n",
       "       [-0.11962569,  0.11732954, -0.04086086],\n",
       "       [ 0.20690179, -0.26730671,  0.02399308],\n",
       "       [ 0.57110344,  0.44898628, -0.13467888],\n",
       "       [-0.34497504, -0.02482347,  0.19621806]])"
      ]
     },
     "execution_count": 72,
     "metadata": {},
     "output_type": "execute_result"
    }
   ],
   "source": [
    "X_norm = X / norm_X\n",
    "X_norm"
   ]
  },
  {
   "cell_type": "code",
   "execution_count": 70,
   "metadata": {},
   "outputs": [
    {
     "data": {
      "text/plain": [
       "array([[ 0.16298974,  0.08891962,  0.23219413],\n",
       "       [ 0.16298974,  0.08891962,  0.23219413],\n",
       "       [ 0.16298974,  0.08891962,  0.23219413],\n",
       "       [ 0.16298974,  0.08891962,  0.23219413],\n",
       "       [ 0.16298974,  0.08891962,  0.23219413],\n",
       "       [ 0.16298974,  0.08891962,  0.73083571],\n",
       "       [ 0.16298974, -0.86204773,  0.20210568],\n",
       "       [ 0.34386564, -0.39576774, -0.19572907],\n",
       "       [ 0.50071744,  0.16318764, -0.12017305],\n",
       "       [ 0.66714233,  0.16177515, -0.32048473]])"
      ]
     },
     "execution_count": 70,
     "metadata": {},
     "output_type": "execute_result"
    }
   ],
   "source": [
    "U_norm = U / np.linalg.norm(U,axis=0)\n",
    "U_norm"
   ]
  },
  {
   "cell_type": "code",
   "execution_count": 81,
   "metadata": {},
   "outputs": [
    {
     "data": {
      "text/plain": [
       "array([[ 1.        ,  0.5367614 , -0.04438974],\n",
       "       [ 0.5367614 ,  1.        ,  0.56221996],\n",
       "       [-0.04438974,  0.56221996,  1.        ]])"
      ]
     },
     "execution_count": 81,
     "metadata": {},
     "output_type": "execute_result"
    }
   ],
   "source": [
    "sigma = np.dot(X_norm.T,X_norm)\n",
    "sigma"
   ]
  },
  {
   "cell_type": "code",
   "execution_count": 84,
   "metadata": {},
   "outputs": [
    {
     "data": {
      "text/plain": [
       "matrix([[ 1.86334002, -1.53042646,  0.94314949],\n",
       "        [-1.53042646,  2.71917633, -1.59671044],\n",
       "        [ 0.94314949, -1.59671044,  1.93956864]])"
      ]
     },
     "execution_count": 84,
     "metadata": {},
     "output_type": "execute_result"
    }
   ],
   "source": [
    "sigma_inv = np.mat(sigma).I\n",
    "sigma_inv"
   ]
  },
  {
   "cell_type": "code",
   "execution_count": 86,
   "metadata": {},
   "outputs": [
    {
     "data": {
      "text/plain": [
       "matrix([[ 1.00000000e+00, -2.91433544e-16,  4.16333634e-17],\n",
       "        [-1.11022302e-16,  1.00000000e+00,  0.00000000e+00],\n",
       "        [-1.11022302e-16,  0.00000000e+00,  1.00000000e+00]])"
      ]
     },
     "execution_count": 86,
     "metadata": {},
     "output_type": "execute_result"
    }
   ],
   "source": [
    "np.dot(sigma.T,sigma_inv)"
   ]
  },
  {
   "cell_type": "code",
   "execution_count": 88,
   "metadata": {},
   "outputs": [
    {
     "data": {
      "text/plain": [
       "array([0.40030916, 0.40030916, 0.40030916])"
      ]
     },
     "execution_count": 88,
     "metadata": {},
     "output_type": "execute_result"
    }
   ],
   "source": [
    "s = min(1,2*np.linalg.eig(sigma)[0].min() )* np.ones(p) - 0.0001 \n",
    "s"
   ]
  },
  {
   "cell_type": "code",
   "execution_count": 91,
   "metadata": {},
   "outputs": [
    {
     "data": {
      "text/plain": [
       "matrix([[ 0.70853573,  0.        ,  0.        ],\n",
       "        [ 0.34613201,  0.4950454 ,  0.        ],\n",
       "        [-0.21330932,  0.66600338,  0.02731428]])"
      ]
     },
     "execution_count": 91,
     "metadata": {},
     "output_type": "execute_result"
    }
   ],
   "source": [
    "C = cholesky(2*np.diag(s) - np.diag(s)*sigma_inv*np.diag(s))\n",
    "C"
   ]
  },
  {
   "cell_type": "code",
   "execution_count": 100,
   "metadata": {},
   "outputs": [
    {
     "data": {
      "text/plain": [
       "matrix([[ 0.25408793,  0.61264373, -0.37755138],\n",
       "        [ 0.61264373, -0.08851119,  0.63917781],\n",
       "        [-0.37755138,  0.63917781,  0.22357291]])"
      ]
     },
     "execution_count": 100,
     "metadata": {},
     "output_type": "execute_result"
    }
   ],
   "source": [
    "np.eye(p) - sigma_inv*np.diag(s)"
   ]
  },
  {
   "cell_type": "code",
   "execution_count": 99,
   "metadata": {},
   "outputs": [
    {
     "data": {
      "text/plain": [
       "matrix([[-0.04621409,  0.04791865,  0.20392946],\n",
       "        [-0.18773864,  0.0008701 , -0.1321377 ],\n",
       "        [-0.03913215, -0.51194973, -0.57360147],\n",
       "        [-0.03141399, -0.23829795,  0.03100402],\n",
       "        [-0.39594008, -0.26643301, -0.04476263],\n",
       "        [ 0.17445178,  0.38238671,  0.14403441],\n",
       "        [ 0.05691284, -0.10979026,  0.1110239 ],\n",
       "        [-0.12025115,  0.16575256, -0.24360837],\n",
       "        [ 0.47102732,  0.22405888,  0.04125063],\n",
       "        [-0.17694433, -0.08373141,  0.15824823]])"
      ]
     },
     "execution_count": 99,
     "metadata": {},
     "output_type": "execute_result"
    }
   ],
   "source": [
    "np.dot(X_norm, np.eye(p) - sigma_inv*np.diag(s))"
   ]
  },
  {
   "cell_type": "code",
   "execution_count": 101,
   "metadata": {},
   "outputs": [
    {
     "data": {
      "text/plain": [
       "matrix([[ 0.06926996,  0.14835386,  0.23472521],\n",
       "        [-0.07225459,  0.10130532, -0.10134194],\n",
       "        [ 0.07635191, -0.41151452, -0.54280571],\n",
       "        [ 0.08407006, -0.13786273,  0.06179978],\n",
       "        [-0.28045603, -0.1659978 , -0.01396687],\n",
       "        [ 0.28993584,  0.48282192,  0.1884502 ],\n",
       "        [ 0.17239689, -0.48012706, -0.49234966],\n",
       "        [ 0.12338994,  0.08885247, -0.58588697],\n",
       "        [ 0.82580352,  0.4781585 ,  0.03984401],\n",
       "        [ 0.29574985,  0.22727394,  0.11492954]])"
      ]
     },
     "execution_count": 101,
     "metadata": {},
     "output_type": "execute_result"
    }
   ],
   "source": [
    "X_tilde = np.dot(X_norm, np.eye(p) - sigma_inv*np.diag(s)) + np.dot(U_norm,C.T)\n",
    "X_tilde"
   ]
  },
  {
   "cell_type": "code",
   "execution_count": null,
   "metadata": {},
   "outputs": [],
   "source": []
  }
 ],
 "metadata": {
  "kernelspec": {
   "display_name": "Python 3",
   "language": "python",
   "name": "python3"
  },
  "language_info": {
   "codemirror_mode": {
    "name": "ipython",
    "version": 3
   },
   "file_extension": ".py",
   "mimetype": "text/x-python",
   "name": "python",
   "nbconvert_exporter": "python",
   "pygments_lexer": "ipython3",
   "version": "3.7.1"
  }
 },
 "nbformat": 4,
 "nbformat_minor": 2
}
